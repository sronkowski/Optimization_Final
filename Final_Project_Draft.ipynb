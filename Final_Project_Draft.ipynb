{
 "cells": [
  {
   "cell_type": "code",
   "execution_count": 1,
   "metadata": {},
   "outputs": [],
   "source": [
    "using LinearAlgebra\n",
    "using JuMP\n",
    "using GLPK\n",
    "using MathOptInterface"
   ]
  },
  {
   "cell_type": "code",
   "execution_count": 2,
   "metadata": {},
   "outputs": [
    {
     "data": {
      "text/plain": [
       "4-element Array{Int64,1}:\n",
       " 1\n",
       " 2\n",
       " 3\n",
       " 4"
      ]
     },
     "execution_count": 2,
     "metadata": {},
     "output_type": "execute_result"
    }
   ],
   "source": [
    "#for ease of comprehension, I will use capital letters for variables outside the model space\n",
    "#establish port quantities and market demands\n",
    "\n",
    "P = [15,25,35,45]\n",
    "M = [25,25,35,15,20]\n",
    "\n",
    "#establish travel requirements\n",
    "#for now, treat these values as B[M,N] = cost of transporting one unit of goods from P[M] to M[N]\n",
    "#proposed improvement: pull actual distances and travel times from Google API...\n",
    "#https://developers.google.com/maps/documentation/distance-matrix/intro\n",
    "\n",
    "B = [\n",
    "    1 7 5 3 9;\n",
    "    3 5 7 9 1;\n",
    "    5 3 9 1 7;\n",
    "    7 9 1 3 5\n",
    "]\n",
    "\n",
    "#collect dimensionality of matrix B for later use\n",
    "Ports, Markets = size(B)\n",
    "\n",
    "#create iterable arrays that represent the dimensionality of matrix B\n",
    "#I = the number of markets\n",
    "I = collect(1:Markets)\n",
    "#J = the number of ports\n",
    "J = collect(1:Ports)"
   ]
  },
  {
   "cell_type": "code",
   "execution_count": 3,
   "metadata": {},
   "outputs": [
    {
     "data": {
      "text/plain": [
       "NorthwestRowFill (generic function with 1 method)"
      ]
     },
     "execution_count": 3,
     "metadata": {},
     "output_type": "execute_result"
    }
   ],
   "source": [
    "function NorthwestRowFill(supply, demand, output, row)\n",
    "    #extract dimensionality of output array\n",
    "    num_row, num_col = size(output)\n",
    "    println(num_row, num_col)\n",
    "    #iterate over columns within supplied row value\n",
    "    for c in 1:num_col\n",
    "        if supply[row] == 0\n",
    "            break\n",
    "        #if supply <= demand, put all supply towards that demand\n",
    "        elseif supply[row] <= demand[c]\n",
    "            #push supply into output matrix\n",
    "            #println(\"setting output (\", row,\",\", c, \") to \", supply[row])\n",
    "            output[row,c] = supply[row]\n",
    "            #reduce demand at that market\n",
    "            demand[c] = demand[c] - supply[row]\n",
    "            #zero supply from that port\n",
    "            supply[row] = 0\n",
    "        #if supply > demand, fill all demand and continue across columns    \n",
    "        else  \n",
    "            output[row,c] = demand[c]\n",
    "            supply[row] = supply[row] - demand[c]\n",
    "            demand[c] = 0\n",
    "        end\n",
    "    end\n",
    "    return output\n",
    "end"
   ]
  },
  {
   "cell_type": "code",
   "execution_count": 4,
   "metadata": {},
   "outputs": [
    {
     "data": {
      "text/plain": [
       "BalancedFeasibility (generic function with 1 method)"
      ]
     },
     "execution_count": 4,
     "metadata": {},
     "output_type": "execute_result"
    }
   ],
   "source": [
    "function BalancedFeasibility(supply::Array , demand::Array, cost:: Array)\n",
    "    #extract dimensionality of costs matrix\n",
    "    rows, cols = size(cost)\n",
    "    #check that there are the same number of rows in costs matrix and ports array\n",
    "    if size(supply)[1] != rows\n",
    "        throw(DimensionMismatch(\"Ports array does not match rows of cost matrix\"))\n",
    "    #check that there are the same number of columns in costs matrix as markets array\n",
    "    elseif size(demand)[1] != cols\n",
    "        throw(DimensionMismatch(\"Markets array does not match columns of cost matrix\"))\n",
    "    #check that demand and supply are equal   \n",
    "    elseif sum(supply) != sum(demand)\n",
    "        throw(DomainError(\"The sum of available products and product demand is not equal\"))\n",
    "    end\n",
    "    #print(\"Dimensions matched and market is balanced.  Continuing...\")\n",
    "end"
   ]
  },
  {
   "cell_type": "code",
   "execution_count": 5,
   "metadata": {},
   "outputs": [
    {
     "data": {
      "text/plain": [
       "NorthwestCorner (generic function with 1 method)"
      ]
     },
     "execution_count": 5,
     "metadata": {},
     "output_type": "execute_result"
    }
   ],
   "source": [
    "function NorthwestCorner(supply::Array , demand::Array, cost:: Array)\n",
    "    #copy input supply and demand arrays\n",
    "    s = copy(supply)\n",
    "    d = copy(demand)\n",
    "    #feasibility check\n",
    "    BalancedFeasibility(supply, demand, cost)\n",
    "    #intialize output matrix\n",
    "    rows, cols = size(cost)\n",
    "    output = zeros(rows, cols)\n",
    "    for r in 1:rows\n",
    "        output = NorthwestRowFill(s, d, output, r)\n",
    "    end\n",
    "    display(output)\n",
    "    return output\n",
    "end"
   ]
  },
  {
   "cell_type": "code",
   "execution_count": 6,
   "metadata": {},
   "outputs": [
    {
     "data": {
      "text/plain": [
       "4×5 Array{Float64,2}:\n",
       " 15.0   0.0   0.0   0.0   0.0\n",
       " 10.0  15.0   0.0   0.0   0.0\n",
       "  0.0  10.0  25.0   0.0   0.0\n",
       "  0.0   0.0  10.0  15.0  20.0"
      ]
     },
     "metadata": {},
     "output_type": "display_data"
    },
    {
     "name": "stdout",
     "output_type": "stream",
     "text": [
      "45\n",
      "45\n",
      "45\n",
      "45\n"
     ]
    },
    {
     "data": {
      "text/plain": [
       "4×5 Array{Float64,2}:\n",
       " 15.0   0.0   0.0   0.0   0.0\n",
       " 10.0  15.0   0.0   0.0   0.0\n",
       "  0.0  10.0  25.0   0.0   0.0\n",
       "  0.0   0.0  10.0  15.0  20.0"
      ]
     },
     "execution_count": 6,
     "metadata": {},
     "output_type": "execute_result"
    }
   ],
   "source": [
    "feasible_solution = NorthwestCorner(P,M,B)"
   ]
  },
  {
   "cell_type": "code",
   "execution_count": 7,
   "metadata": {},
   "outputs": [
    {
     "data": {
      "text/plain": [
       "LeastCostIterator (generic function with 1 method)"
      ]
     },
     "execution_count": 7,
     "metadata": {},
     "output_type": "execute_result"
    }
   ],
   "source": [
    "function LeastCostIterator(s, d, c, output)\n",
    "    num_row, num_col = size(c)\n",
    "    for row in 1:num_row\n",
    "        #println(\"on row $row\")\n",
    "        if s[row] == 0\n",
    "            continue\n",
    "        else\n",
    "            lowest_cost_loc = CartesianIndex(row, findmin(c[row,:])[2])\n",
    "            cheap_y = lowest_cost_loc[2]\n",
    "            #println(\"y index of lowest cost is $cheap_y\")\n",
    "            #println(\"found lowest cost at $lowest_cost_loc\")\n",
    "            if s[row] >= d[cheap_y]\n",
    "                output[lowest_cost_loc] = d[cheap_y]\n",
    "                s[row] = s[row] - d[cheap_y]\n",
    "                d[cheap_y] = 0\n",
    "                c[lowest_cost_loc] = 1000000\n",
    "                #if supply <= demand, put all supply towards that demand\n",
    "            else \n",
    "                output[lowest_cost_loc] = s[row]\n",
    "                    #reduce demand at that market\n",
    "                d[cheap_y] = d[cheap_y] - s[row]\n",
    "                    #zero supply from that port\n",
    "                s[row] = 0\n",
    "                c[lowest_cost_loc] = 1000000\n",
    "            end                  \n",
    "        end\n",
    "    end\n",
    "    return s, d, c, output\n",
    "end"
   ]
  },
  {
   "cell_type": "code",
   "execution_count": 8,
   "metadata": {},
   "outputs": [
    {
     "data": {
      "text/plain": [
       "LeastCostRule (generic function with 1 method)"
      ]
     },
     "execution_count": 8,
     "metadata": {},
     "output_type": "execute_result"
    }
   ],
   "source": [
    "function LeastCostRule(supply, demand, cost)\n",
    "    num_row, num_col = size(cost)\n",
    "    s = copy(supply)\n",
    "    d = copy(demand)\n",
    "    c = copy(cost)\n",
    "    output = zeros(num_row, num_col)\n",
    "    for repeats in 1:num_col \n",
    "        s, d, c, output = LeastCostIterator(s,d,c, output)\n",
    "    end\n",
    "    display(output)\n",
    "    return output\n",
    "end"
   ]
  },
  {
   "cell_type": "code",
   "execution_count": 9,
   "metadata": {},
   "outputs": [
    {
     "data": {
      "text/plain": [
       "4×5 Array{Float64,2}:\n",
       " 15.0   0.0   0.0   0.0   0.0\n",
       "  5.0   0.0   0.0   0.0  20.0\n",
       "  0.0  20.0   0.0  15.0   0.0\n",
       "  5.0   5.0  35.0   0.0   0.0"
      ]
     },
     "metadata": {},
     "output_type": "display_data"
    },
    {
     "data": {
      "text/plain": [
       "4×5 Array{Float64,2}:\n",
       " 15.0   0.0   0.0   0.0   0.0\n",
       "  5.0   0.0   0.0   0.0  20.0\n",
       "  0.0  20.0   0.0  15.0   0.0\n",
       "  5.0   5.0  35.0   0.0   0.0"
      ]
     },
     "execution_count": 9,
     "metadata": {},
     "output_type": "execute_result"
    }
   ],
   "source": [
    "least_output = LeastCostRule(P,M,B)"
   ]
  },
  {
   "cell_type": "code",
   "execution_count": 10,
   "metadata": {},
   "outputs": [
    {
     "ename": "UndefVarError",
     "evalue": "UndefVarError: ComputeUV not defined",
     "output_type": "error",
     "traceback": [
      "UndefVarError: ComputeUV not defined",
      "",
      "Stacktrace:",
      " [1] top-level scope at In[10]:1"
     ]
    }
   ],
   "source": [
    "u, v = ComputeUV(least_output, B)\n",
    "is_opt, w, loc_max = ComputeW(u,v,least_output, B)"
   ]
  },
  {
   "cell_type": "code",
   "execution_count": 11,
   "metadata": {},
   "outputs": [
    {
     "data": {
      "text/plain": [
       "TransportationSimplexOpt (generic function with 1 method)"
      ]
     },
     "execution_count": 11,
     "metadata": {},
     "output_type": "execute_result"
    }
   ],
   "source": [
    "function TransportationSimplexOpt(supply, demand, cost)\n",
    "    println(\"Finding Northwest Corner feasible solution...\")\n",
    "    nwc_feasible_solution = NorthwestCorner(supply, demand, cost)\n",
    "    \n",
    "    println(\"Finding Least Cost feasible solution...\")\n",
    "    lc_feasible_solution = LeastCostRule(supply, demand, cost)\n",
    "\n",
    "    println(\"Attempting to Optimize NWC feasible solution\")\n",
    "    nwc_u,nwc_v = ComputeUV(nwc_feasible_solution, cost)\n",
    "    println(\"Found u of $nwc_u\")\n",
    "    println(\"Found v of $nwc_v\")\n",
    "    nwc_is_not_opt, nwc_w, nwc_loc_max = ComputeW(nwc_u, nwc_v, nwc_feasible_solution, cost)\n",
    "    if nwc_is_not_opt\n",
    "        println(\"NWC solution is not optimal.  Looping...\")\n",
    "    else\n",
    "        println(\"Congrats!  You have an optimal solution.\")\n",
    "        return nwc_feasible_solution\n",
    "    end\n",
    "    nwc_first_steps = FindFirstStep(nwc_loc_max, nwc_feasible_solution)\n",
    "    if FindLoop(nwc_loc_max, nwc_feasible_solution, nwc_first_steps, nwc_w) == false\n",
    "        println(\"NWC solution is not loopable - falling back to Least Cost option\")\n",
    "        lc_u, lc_v = ComputeUV(lc_feasible_solution, cost)\n",
    "        lc_is_not_opt, lc_w, lc_loc_max = ComputeW(lc_u, lc_v, lc_feasible_solution, cost)\n",
    "                if lc_is_not_opt\n",
    "                    println(\"LC solution is not optimal.  Looping...\")\n",
    "                else\n",
    "                    println(\"Congrats!  You have an optimal solution.\")\n",
    "                    return nwc_feasible_solution\n",
    "                end\n",
    "        lc_first_steps = FindFirstStep(lc_loc_max, lc_feasible_solution)\n",
    "        loop = FindLoop(lc_loc_max, lc_feasible_solution, lc_first_steps, lc_w)\n",
    "        feasible_solution = lc_feasible_solution\n",
    "        is_not_opt = lc_is_not_opt\n",
    "    else\n",
    "        loop = FindLoop(nwc_loc_max, nwc_feasible_solution, nwc_first_steps, nwc_w)\n",
    "        feasible_solution = nwc_feasible_solution\n",
    "        is_not_opt = nwc_is_not_opt\n",
    "    end\n",
    "    \n",
    "    feasible_solution = LoopTransform(loop, feasible_solution)\n",
    "    iteration = 1\n",
    "    while is_not_opt\n",
    "        println(\"in while loop - finding u & v\")\n",
    "        u,v = ComputeUV(feasible_solution, cost)\n",
    "        print(u)\n",
    "        print(v)\n",
    "        println(\"in while loop - finding w\")\n",
    "        is_not_opt, w, loc_max = ComputeW(u, v, feasible_solution, cost)\n",
    "        print(w)\n",
    "            if is_not_opt == false\n",
    "                print(\"Congrats!  You found an optimal solution!\")\n",
    "                return feasible_solution\n",
    "            else\n",
    "                iteration += 1\n",
    "                println(\"Value loop iteration $iteration\")\n",
    "            end\n",
    "        first_steps = FindFirstStep(loc_max, feasible_solution)\n",
    "        loop = FindLoop(loc_max, feasible_solution, first_steps, w)\n",
    "        feasible_solution = LoopTransform(loop, feasible_solution)\n",
    "    end\n",
    "    return feasible_solution\n",
    "        \n",
    "end"
   ]
  },
  {
   "cell_type": "code",
   "execution_count": 23,
   "metadata": {},
   "outputs": [
    {
     "data": {
      "text/plain": [
       "4×5 Array{Float64,2}:\n",
       " 15.0   0.0   0.0   0.0   0.0\n",
       " 10.0  15.0   0.0   0.0   0.0\n",
       "  0.0  10.0  25.0   0.0   0.0\n",
       "  0.0   0.0  10.0  15.0  20.0"
      ]
     },
     "metadata": {},
     "output_type": "display_data"
    },
    {
     "data": {
      "text/plain": [
       "4×5 Array{Float64,2}:\n",
       " 15.0   0.0   0.0   0.0   0.0\n",
       "  5.0   0.0   0.0   0.0  20.0\n",
       "  0.0  20.0   0.0  15.0   0.0\n",
       "  5.0   5.0  35.0   0.0   0.0"
      ]
     },
     "metadata": {},
     "output_type": "display_data"
    },
    {
     "name": "stdout",
     "output_type": "stream",
     "text": [
      "Finding Northwest Corner feasible solution...\n",
      "45\n",
      "45\n",
      "45\n",
      "45\n",
      "Finding Least Cost feasible solution...\n",
      "Attempting to Optimize NWC feasible solution\n",
      "[0.0, NaN, NaN, NaN]Found u of [0.0, 2.0, 0.0, -8.0]\n",
      "Found v of [1.0, 3.0, 9.0, 11.0, 13.0]\n",
      "NWC solution is not optimal.  Looping...\n",
      "checking (2, 1)\n",
      "checking (2, 2)\n",
      "checking (4, 5)\n",
      "NWC solution is not loopable - falling back to Least Cost option\n",
      "[0.0, NaN, NaN, NaN]LC solution is not optimal.  Looping...\n",
      "checking (4, 1)\n",
      "checking (4, 2)\n",
      "Good news - I found a row loop!\n",
      "moving 5.0 around the loop\n",
      "in while loop - finding u & v\n",
      "[0.0, NaN, NaN, NaN][0.0, 2.0, 0.0, 6.0][1.0, 3.0, -5.0, -3.0, -1.0]in while loop - finding w\n",
      "[0.0 -4.0 -10.0 -6.0 -10.0; 0.0 0.0 -10.0 -10.0 0.0; -4.0 0.0 -14.0 0.0 -8.0; 0.0 0.0 0.0 0.0 0.0]Congrats!  You found an optimal solution!"
     ]
    },
    {
     "data": {
      "text/plain": [
       "4×5 Array{Float64,2}:\n",
       " 15.0   0.0   0.0   0.0   0.0\n",
       "  5.0   0.0   0.0   0.0  20.0\n",
       "  0.0  25.0   0.0  10.0   0.0\n",
       "  5.0   0.0  35.0   5.0   0.0"
      ]
     },
     "execution_count": 23,
     "metadata": {},
     "output_type": "execute_result"
    }
   ],
   "source": [
    "manual_opt = TransportationSimplexOpt(P,M,B)"
   ]
  },
  {
   "cell_type": "code",
   "execution_count": 24,
   "metadata": {},
   "outputs": [
    {
     "data": {
      "text/plain": [
       "220.0"
      ]
     },
     "execution_count": 24,
     "metadata": {},
     "output_type": "execute_result"
    }
   ],
   "source": [
    "sum(manual_opt .* B)"
   ]
  },
  {
   "cell_type": "code",
   "execution_count": 14,
   "metadata": {},
   "outputs": [
    {
     "data": {
      "text/plain": [
       "ComputeUV (generic function with 1 method)"
      ]
     },
     "execution_count": 14,
     "metadata": {},
     "output_type": "execute_result"
    }
   ],
   "source": [
    "function ComputeUV(feasible_solution:: Array, costs:: Array)\n",
    "    #extract dimensions, initialize output u and v arrays\n",
    "    num_row, num_col = size(feasible_solution)\n",
    "    u = fill(NaN, num_row)\n",
    "    v = fill(NaN, num_col)\n",
    "    #copy feasible solution, set u[1] = 0 by convention\n",
    "    bfs = copy(feasible_solution)\n",
    "    u[1] = 0\n",
    "    print(u)\n",
    "    for row in 1:num_row\n",
    "        #println(\"on row $row\")\n",
    "        for col in 1:num_col\n",
    "            #println(\"on col $col\")\n",
    "            if feasible_solution[row,col] == 0\n",
    "                #println(\"no value at $row, $col - pass\")\n",
    "                continue\n",
    "            elseif isnan(u[row])\n",
    "                #println(\"setting u $row value\")\n",
    "                if isnan(v[col])\n",
    "                    #println(\"override to set u $row to 0\")\n",
    "                    u[row] = 0\n",
    "                    v[col] = costs[row,col] - u[row]\n",
    "                else                \n",
    "                    u[row] = costs[row,col] - v[col]\n",
    "                    #println(\"u is now $u\")\n",
    "                end\n",
    "            else\n",
    "                #println(\"setting v $col value\")\n",
    "                v[col] = costs[row,col] - u[row]\n",
    "                #println(\"v is now $v\")\n",
    "            end\n",
    "        end\n",
    "    end\n",
    "    return u,v\n",
    "end"
   ]
  },
  {
   "cell_type": "code",
   "execution_count": 15,
   "metadata": {},
   "outputs": [
    {
     "name": "stdout",
     "output_type": "stream",
     "text": [
      "[0.0, NaN, NaN, NaN]"
     ]
    },
    {
     "data": {
      "text/plain": [
       "([0.0, 2.0, 0.0, -8.0], [1.0, 3.0, 9.0, 11.0, 13.0])"
      ]
     },
     "execution_count": 15,
     "metadata": {},
     "output_type": "execute_result"
    }
   ],
   "source": [
    "u, v = ComputeUV(feasible_solution, B)"
   ]
  },
  {
   "cell_type": "code",
   "execution_count": 16,
   "metadata": {},
   "outputs": [
    {
     "data": {
      "text/plain": [
       "ComputeW (generic function with 1 method)"
      ]
     },
     "execution_count": 16,
     "metadata": {},
     "output_type": "execute_result"
    }
   ],
   "source": [
    "function ComputeW(u,v,feasible_solution, costs)\n",
    "    num_row, num_col = size(feasible_solution)\n",
    "    w = fill(NaN, (num_row, num_col))\n",
    "    for row in 1:num_row\n",
    "        for col in 1:num_col\n",
    "            if feasible_solution[row,col] != 0\n",
    "                w[row,col] = 0\n",
    "            else\n",
    "                w[row,col] = u[row] + v[col] - costs[row,col]\n",
    "            end\n",
    "        end\n",
    "    end\n",
    "    if findmax(w)[1] <= 0\n",
    "        return false, w, findmax(w)[2]\n",
    "    else\n",
    "        return true, w, findmax(w)[2]\n",
    "    end\n",
    "end"
   ]
  },
  {
   "cell_type": "code",
   "execution_count": 429,
   "metadata": {},
   "outputs": [
    {
     "data": {
      "text/plain": [
       "(true, [0.0 -4.0 … 8.0 4.0; 0.0 0.0 … 4.0 14.0; -4.0 0.0 … 10.0 6.0; -14.0 -14.0 … 0.0 0.0], CartesianIndex(2, 5))"
      ]
     },
     "execution_count": 429,
     "metadata": {},
     "output_type": "execute_result"
    }
   ],
   "source": [
    "is_opt, w, loc_max = ComputeW(u,v,feasible_solution, B)"
   ]
  },
  {
   "cell_type": "code",
   "execution_count": 17,
   "metadata": {},
   "outputs": [
    {
     "ename": "UndefVarError",
     "evalue": "UndefVarError: w not defined",
     "output_type": "error",
     "traceback": [
      "UndefVarError: w not defined",
      "",
      "Stacktrace:",
      " [1] top-level scope at In[17]:1"
     ]
    }
   ],
   "source": [
    "sum(w .< 0)\n",
    "index_list = 1:size(list)[1]\n",
    "print(index_list)"
   ]
  },
  {
   "cell_type": "code",
   "execution_count": 18,
   "metadata": {},
   "outputs": [
    {
     "data": {
      "text/plain": [
       "FindFirstStep (generic function with 1 method)"
      ]
     },
     "execution_count": 18,
     "metadata": {},
     "output_type": "execute_result"
    }
   ],
   "source": [
    "function FindFirstStep(starting_coordinate,feasible_solution)\n",
    "    num_row, num_col = size(feasible_solution)\n",
    "    starting_x = starting_coordinate[1]\n",
    "    starting_y = starting_coordinate[2]\n",
    "    move = []\n",
    "    #println(\"$starting_x, $starting_y\")\n",
    "    for col in 1:num_col\n",
    "        if feasible_solution[starting_x, col] > 0\n",
    "            #println(\"found x at $starting_x, $col\")\n",
    "            push!(move, (starting_x, col))\n",
    "        end\n",
    "    end\n",
    "    for row in 1:num_row\n",
    "        if feasible_solution[row,starting_y] > 0\n",
    "            #println(\"found y at $row, $starting_y\")\n",
    "            push!(move, (row, starting_y))\n",
    "        end\n",
    "    end\n",
    "    return move\n",
    "end"
   ]
  },
  {
   "cell_type": "code",
   "execution_count": 434,
   "metadata": {},
   "outputs": [
    {
     "name": "stdout",
     "output_type": "stream",
     "text": [
      "4, 4\n",
      "found x at 4, 1\n",
      "found x at 4, 2\n",
      "found x at 4, 3\n",
      "found y at 3, 4\n"
     ]
    },
    {
     "data": {
      "text/plain": [
       "4-element Array{Any,1}:\n",
       " (4, 1)\n",
       " (4, 2)\n",
       " (4, 3)\n",
       " (3, 4)"
      ]
     },
     "execution_count": 434,
     "metadata": {},
     "output_type": "execute_result"
    }
   ],
   "source": [
    "my_moves = FindFirstStep(loc_max, least_output)\n",
    "my_moves"
   ]
  },
  {
   "cell_type": "code",
   "execution_count": 19,
   "metadata": {},
   "outputs": [
    {
     "data": {
      "text/plain": [
       "FindLoop (generic function with 1 method)"
      ]
     },
     "execution_count": 19,
     "metadata": {},
     "output_type": "execute_result"
    }
   ],
   "source": [
    "function FindLoop(starting_coordinate, feasible_solution, first_moves, w)\n",
    "    output = []\n",
    "    num_row, num_col = size(feasible_solution)\n",
    "    starting_x = starting_coordinate[1]\n",
    "    starting_y = starting_coordinate[2]\n",
    "    for coord in first_moves\n",
    "        println(\"checking $coord\")\n",
    "        this_x = coord[1]\n",
    "        this_y = coord[2]\n",
    "        for row in 1:num_row\n",
    "            if row == this_x\n",
    "                continue\n",
    "            else\n",
    "                if feasible_solution[row, this_y] > 0 && feasible_solution[row, starting_y] > 0\n",
    "                    println(\"Good news - I found a row loop!\")\n",
    "                    push!(output, starting_coordinate, CartesianIndex(coord), CartesianIndex(row, this_y), CartesianIndex(row, starting_y))\n",
    "                    return output\n",
    "                else\n",
    "                    #println(\"No loop-back at point $row, $this_y\")\n",
    "                    continue\n",
    "                end\n",
    "            end\n",
    "        end\n",
    "        for col in 1:num_col\n",
    "            if col == this_y || this_x == starting_x\n",
    "                continue\n",
    "            else\n",
    "                if feasible_solution[this_x, col] > 0 && feasible_solution[starting_x, col] > 0\n",
    "                    println(\"Good news - I found a column loop!\")\n",
    "                    push!(output, starting_coordinate, CartesianIndex(coord), CartesianIndex(this_x, col), CartesianIndex(starting_x, col))\n",
    "                    return output\n",
    "                else\n",
    "                    #println(\"No loop-back at point $this_x, $col\")\n",
    "                    continue\n",
    "                end\n",
    "            end\n",
    "        end\n",
    "            \n",
    "    end\n",
    "    return false\n",
    "end"
   ]
  },
  {
   "cell_type": "code",
   "execution_count": 20,
   "metadata": {},
   "outputs": [
    {
     "ename": "UndefVarError",
     "evalue": "UndefVarError: loc_max not defined",
     "output_type": "error",
     "traceback": [
      "UndefVarError: loc_max not defined",
      "",
      "Stacktrace:",
      " [1] top-level scope at In[20]:1"
     ]
    }
   ],
   "source": [
    "loops = FindLoop(loc_max, least_output, my_moves, w)"
   ]
  },
  {
   "cell_type": "code",
   "execution_count": 21,
   "metadata": {},
   "outputs": [
    {
     "data": {
      "text/plain": [
       "LoopTransform (generic function with 1 method)"
      ]
     },
     "execution_count": 21,
     "metadata": {},
     "output_type": "execute_result"
    }
   ],
   "source": [
    "function LoopTransform(loops, feasible_solution)\n",
    "    loop_values = []\n",
    "    for value in loops\n",
    "        push!(loop_values, feasible_solution[value])\n",
    "    end\n",
    "    value_to_move, ignore = findmin(loop_values[loop_values .> 0])\n",
    "    println(\"moving $value_to_move around the loop\")\n",
    "    for (index, value) in enumerate(loops)\n",
    "        if index % 2 != 0\n",
    "            feasible_solution[value] = feasible_solution[value] + value_to_move\n",
    "        else\n",
    "            feasible_solution[value] = feasible_solution[value] - value_to_move\n",
    "        end\n",
    "    end \n",
    "    return feasible_solution\n",
    "end"
   ]
  },
  {
   "cell_type": "code",
   "execution_count": 22,
   "metadata": {},
   "outputs": [
    {
     "ename": "UndefVarError",
     "evalue": "UndefVarError: loops not defined",
     "output_type": "error",
     "traceback": [
      "UndefVarError: loops not defined",
      "",
      "Stacktrace:",
      " [1] top-level scope at In[22]:1"
     ]
    }
   ],
   "source": [
    "LoopTransform(loops, least_output)"
   ]
  },
  {
   "cell_type": "code",
   "execution_count": 167,
   "metadata": {},
   "outputs": [
    {
     "data": {
      "text/latex": [
       "$$ x_{1,1} + 3 x_{2,1} + 5 x_{3,1} + 7 x_{4,1} + 7 x_{1,2} + 5 x_{2,2} + 3 x_{3,2} + 9 x_{4,2} + 5 x_{1,3} + 7 x_{2,3} + 9 x_{3,3} + x_{4,3} + 3 x_{1,4} + 9 x_{2,4} + x_{3,4} + 3 x_{4,4} + 9 x_{1,5} + x_{2,5} + 7 x_{3,5} + 5 x_{4,5} $$"
      ],
      "text/plain": [
       "x[1,1] + 3 x[2,1] + 5 x[3,1] + 7 x[4,1] + 7 x[1,2] + 5 x[2,2] + 3 x[3,2] + 9 x[4,2] + 5 x[1,3] + 7 x[2,3] + 9 x[3,3] + x[4,3] + 3 x[1,4] + 9 x[2,4] + x[3,4] + 3 x[4,4] + 9 x[1,5] + x[2,5] + 7 x[3,5] + 5 x[4,5]"
      ]
     },
     "execution_count": 167,
     "metadata": {},
     "output_type": "execute_result"
    }
   ],
   "source": [
    "#initialize model\n",
    "basic_model = Model(with_optimizer(GLPK.Optimizer))\n",
    "\n",
    "#initialize variables\n",
    "#for ease of comprehension, I will use lower-case letters for variables *inside* the model space\n",
    "#x[i,j] = units moved from Market[i] to Port[j] \n",
    "@variable(basic_model, x[1:Ports,1:Markets] >= 0)\n",
    "\n",
    "#P will represent units available in each port\n",
    "@variable(basic_model, p[i=1:Ports], lower_bound = 0, upper_bound = P[i])\n",
    "\n",
    "#M will represent units demanded in each market\n",
    "@variable(basic_model, m[i=1:Markets], lower_bound = 0, upper_bound = M[i])\n",
    "\n",
    "#create slack variables for excess demand and supply\n",
    "#forced to zero for now, but implemented for future use\n",
    "@variable(basic_model, slackdemand == 0)\n",
    "@variable(basic_model, slacksupply == 0)\n",
    "\n",
    "#add constraints\n",
    "#demand constraints - column-wise sum of matrix x should equal market demand for a given M\n",
    "for market in I\n",
    "    @constraint(basic_model, sum(x[:,market]) + slackdemand == M[market])\n",
    "end\n",
    "\n",
    "#supply constraints - row-wise sum of matrix x should equual supply for a given P\n",
    "for port in J\n",
    "    @constraint(basic_model, sum(x[port,:]) + slacksupply == P[port]) \n",
    "end\n",
    "\n",
    "#compose the objective function\n",
    "@objective(basic_model, Min, sum(B .* x))"
   ]
  },
  {
   "cell_type": "code",
   "execution_count": 168,
   "metadata": {},
   "outputs": [
    {
     "name": "stdout",
     "output_type": "stream",
     "text": [
      " 19.897766 seconds (27.91 M allocations: 1.373 GiB, 6.06% gc time)\n"
     ]
    }
   ],
   "source": [
    "@time begin\n",
    "    status = optimize!(basic_model)\n",
    "end"
   ]
  },
  {
   "cell_type": "code",
   "execution_count": 169,
   "metadata": {},
   "outputs": [
    {
     "name": "stdout",
     "output_type": "stream",
     "text": [
      "Final transportation cost:240.0\n",
      "x[1,1]:15.0\n",
      "x[1,2]:0.0\n",
      "x[1,3]:0.0\n",
      "x[1,4]:0.0\n",
      "x[1,5]:0.0\n",
      "x[2,1]:10.0\n",
      "x[2,2]:0.0\n",
      "x[2,3]:0.0\n",
      "x[2,4]:0.0\n",
      "x[2,5]:15.0\n",
      "x[3,1]:0.0\n",
      "x[3,2]:25.0\n",
      "x[3,3]:0.0\n",
      "x[3,4]:10.0\n",
      "x[3,5]:0.0\n",
      "x[4,1]:0.0\n",
      "x[4,2]:0.0\n",
      "x[4,3]:25.0\n",
      "x[4,4]:15.0\n",
      "x[4,5]:5.0\n",
      "p[1]:0.0\n",
      "p[2]:0.0\n",
      "p[3]:0.0\n",
      "p[4]:0.0\n",
      "m[1]:0.0\n",
      "m[2]:0.0\n",
      "m[3]:0.0\n",
      "m[4]:0.0\n",
      "m[5]:0.0\n",
      "slackdemand:0.0\n",
      "slacksupply:0.0\n"
     ]
    }
   ],
   "source": [
    "#print objective value\n",
    "println(\"Final transportation cost:\", JuMP.objective_value(basic_model))\n",
    "\n",
    "#print values of all variables in system\n",
    "#first, extract list of all variables - no built-in for JuMP to dump all vars\n",
    "list = JuMP.all_variables(basic_model)\n",
    "\n",
    "#now iterate over list and print values\n",
    "for name in list\n",
    "    println(name,\":\", JuMP.value(name))\n",
    "end"
   ]
  }
 ],
 "metadata": {
  "kernelspec": {
   "display_name": "Julia 1.1.1",
   "language": "julia",
   "name": "julia-1.1"
  },
  "language_info": {
   "file_extension": ".jl",
   "mimetype": "application/julia",
   "name": "julia",
   "version": "1.1.1"
  }
 },
 "nbformat": 4,
 "nbformat_minor": 2
}
