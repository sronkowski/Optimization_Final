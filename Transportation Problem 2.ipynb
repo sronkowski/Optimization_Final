{
 "cells": [
  {
   "cell_type": "code",
   "execution_count": 1,
   "metadata": {},
   "outputs": [],
   "source": [
    "using LinearAlgebra\n",
    "using JuMP\n",
    "using MathOptInterface\n",
    "ENV[\"MOSEKBINDIR\"] = \"C:/Program Files/Mosek/8/tools/platform/win64x86/bin\"\n",
    "using MosekTools\n",
    "using Mosek\n",
    "using GLPK"
   ]
  },
  {
   "cell_type": "markdown",
   "metadata": {},
   "source": [
    "## Problem 2\n",
    "\n",
    "You are the operations manager of a dairy conglomerate that operates four dairy farms:\n",
    "1. Mendota, IL\n",
    "2. Havana, IL\n",
    "3. Paris, IL\n",
    "4. Delavan, WI\n",
    "\n",
    "You are a contracted provider for a bottling company has five locations within the Upper Midwest:\n",
    "1. Madison, WI\n",
    "2. Chicago, IL\n",
    "3. Indianapolis, IN\n",
    "4. Saint Louis, MO\n",
    "5. Detroit, MI\n",
    "\n",
    "Your production costs for the milk average \\\\$21.91/cwt, and the five bottling locations are currently paying the following per-gallon wholesale price:\n",
    "1. \\\\$2.19/gal\n",
    "2. \\\\$2.53/gal\n",
    "3. \\\\$2.35/gal\n",
    "4. \\\\$2.40/gal\n",
    "5. \\\\$2.60/gal\n",
    "\n",
    "(Note: 1 cwt = 100lb, 1 gal of milk = 8.6lb)\n",
    "\n",
    "Each week, you are contracted to supply *at least* 10 tons and up to 25 tons of milk to a given bottling company location. Your contracted trucking company can carry up to 5 tons of milk per truck and charges the following per-mile rates:\n",
    "* 0 to 150 mi: \\$1.09/mi\n",
    "* 151+ mi: \\$0.95/mi\n",
    "\n",
    "\n",
    "Distances from Farms 1-4 to Markets 1-5 are as follows:\n",
    "\n",
    "$\\begin{bmatrix}    \n",
    "    125 & 105 & 251 & 241 & 362\\\\\n",
    "    262 & 198 & 227 & 147 & 451\\\\\n",
    "    314 & 199 & 104 & 166 & 390\\\\\n",
    "    59 & 98  & 285 & 352 & 387\\end{bmatrix}$\n",
    "\n",
    "This week, farms 1 through 4 have produced 6500, 3950, 5350, and 9770 gallons.  Find the optimal amounts of milk to ship from each farm to each location so as to maximize profit."
   ]
  },
  {
   "cell_type": "markdown",
   "metadata": {},
   "source": [
    "## Solution\n",
    "\n",
    "### Unit  Conversions and Model Preparation\n",
    "\n",
    "To simplify the final optimization function, I will convert all units into tons.  Since our goal will be to maximize a function, all production costs will be represented as negative numbers.  First, convert the cwt production costs into tonnage production costs.\n",
    "\n",
    "$$tonCost = \\frac{cwtCost}{20cwt/ton}$$"
   ]
  },
  {
   "cell_type": "code",
   "execution_count": 2,
   "metadata": {},
   "outputs": [
    {
     "data": {
      "text/plain": [
       "4-element Array{Float64,1}:\n",
       " -43.8\n",
       " -43.8\n",
       " -43.8\n",
       " -43.8"
      ]
     },
     "execution_count": 2,
     "metadata": {},
     "output_type": "execute_result"
    }
   ],
   "source": [
    "cwtProductionCost = [-2.19; -2.19; -2.19; -2.19]\n",
    "production_costs = cwtProductionCost .* 20"
   ]
  },
  {
   "cell_type": "markdown",
   "metadata": {},
   "source": [
    "Now, convert the wholesale pricing into price per ton.\n",
    "\n",
    "$$tonPrice = galPrice * \\frac{2000lb}{8.6lb/gal}$$"
   ]
  },
  {
   "cell_type": "code",
   "execution_count": 3,
   "metadata": {},
   "outputs": [
    {
     "data": {
      "text/plain": [
       "1×5 Array{Float64,2}:\n",
       " 509.302  588.372  546.512  558.14  604.651"
      ]
     },
     "execution_count": 3,
     "metadata": {},
     "output_type": "execute_result"
    }
   ],
   "source": [
    "wholesaleGalPrice = [2.19 2.53 2.35 2.40 2.60]\n",
    "wholesaleTonPrice = wholesaleGalPrice .* (2000/8.6)"
   ]
  },
  {
   "cell_type": "markdown",
   "metadata": {},
   "source": [
    "Perform the same conversion on milk production output to get the tonnage available for shipment at each farm.\n",
    "\n",
    "$$tonOutput = galOutput * \\frac{8.6lb/gal}{2000lb/ton}$$"
   ]
  },
  {
   "cell_type": "code",
   "execution_count": 4,
   "metadata": {},
   "outputs": [
    {
     "data": {
      "text/plain": [
       "4-element Array{Float64,1}:\n",
       " 27.95 \n",
       " 16.985\n",
       " 23.005\n",
       " 42.011"
      ]
     },
     "execution_count": 4,
     "metadata": {},
     "output_type": "execute_result"
    }
   ],
   "source": [
    "galOutput = [6500, 3950, 5350, 9770]\n",
    "Output = galOutput .* (8.6/2000)"
   ]
  },
  {
   "cell_type": "markdown",
   "metadata": {},
   "source": [
    "With all milk units now measured in tons, we can compute the distance matrices needed to determine shipping costs. Since all shipments are from one fixed point to another fixed point, we can represent shipping distances at each rate as two constants for the high and low-rate distances rather than using constrained variables.  We will also establish the per-mile, per-truck charge as constant negative values.\n",
    "\n",
    "\n",
    "$$        \n",
    "lowRateMileage(Dist) = \n",
    "     \\begin{cases}\n",
    "       Dist - 150 &\\quad\\text{if } Dist - 150 \\ge0\\\\\n",
    "       0 &\\quad\\text{if } Dist - 150 < 0 \\\\\n",
    "          \\end{cases}\n",
    "$$            \n",
    "          $$highRateMileage = Dist - lowRateMileage$$\n",
    "   "
   ]
  },
  {
   "cell_type": "code",
   "execution_count": 5,
   "metadata": {},
   "outputs": [
    {
     "data": {
      "text/plain": [
       "4×5 Array{Float64,2}:\n",
       "   0.0   0.0  101.0   91.0  212.0\n",
       " 112.0  48.0   77.0    0.0  301.0\n",
       " 164.0  49.0    0.0   16.0  240.0\n",
       "   0.0   0.0  135.0  202.0  237.0"
      ]
     },
     "execution_count": 5,
     "metadata": {},
     "output_type": "execute_result"
    }
   ],
   "source": [
    "#establish fixed distances\n",
    "Dist = [\n",
    "    125 105 251 241 362;\n",
    "    262 198 227 147 451;\n",
    "    314 199 104 166 390;\n",
    "    59 98  285 352 387\n",
    "]\n",
    "\n",
    "#establish per-mile costs for each distance\n",
    "mileCostHigh = -1.09\n",
    "mileCostLow = -0.95\n",
    "\n",
    "#extract dimensions of Dist matrix, intialize split matrices\n",
    "output_dims = size(Dist)\n",
    "highRateMileage = zeros(output_dims)\n",
    "lowRateMileage = zeros(output_dims)\n",
    "\n",
    "#loop over Dist to built lowRate Matrix\n",
    "for (index, value) in enumerate(Dist)\n",
    "    if value - 150 > 0\n",
    "        lowRateMileage[index] = value - 150\n",
    "    else\n",
    "        lowRateMileage[index] = 0\n",
    "    end\n",
    "end\n",
    "\n",
    "lowRateMileage"
   ]
  },
  {
   "cell_type": "code",
   "execution_count": 6,
   "metadata": {},
   "outputs": [
    {
     "data": {
      "text/plain": [
       "4×5 Array{Float64,2}:\n",
       " 125.0  105.0  150.0  150.0  150.0\n",
       " 150.0  150.0  150.0  147.0  150.0\n",
       " 150.0  150.0  104.0  150.0  150.0\n",
       "  59.0   98.0  150.0  150.0  150.0"
      ]
     },
     "execution_count": 6,
     "metadata": {},
     "output_type": "execute_result"
    }
   ],
   "source": [
    "highRateMileage = Dist - lowRateMileage"
   ]
  },
  {
   "cell_type": "markdown",
   "metadata": {},
   "source": [
    "We now extract the dimensionality of the main arrays for future use."
   ]
  },
  {
   "cell_type": "code",
   "execution_count": 7,
   "metadata": {},
   "outputs": [
    {
     "data": {
      "text/plain": [
       "5-element Array{Int64,1}:\n",
       " 1\n",
       " 2\n",
       " 3\n",
       " 4\n",
       " 5"
      ]
     },
     "execution_count": 7,
     "metadata": {},
     "output_type": "execute_result"
    }
   ],
   "source": [
    "#collect dimensionality of shipping for later use\n",
    "Farms, Markets = size(Dist)\n",
    "\n",
    "#create iterable arrays that represent the dimensionality of shipping matrix\n",
    "#I = the number of farms\n",
    "I = collect(1:Farms)\n",
    "#J = the number of bottling facilities\n",
    "J = collect(1:Markets)"
   ]
  },
  {
   "cell_type": "markdown",
   "metadata": {},
   "source": [
    "Since the earnings computations will require a matrix of the same dimension as the shipping matrix, we build this needed matrix by repeating the per-ton-earnings potential for a shipment to a given bottling facility across four rows."
   ]
  },
  {
   "cell_type": "code",
   "execution_count": 8,
   "metadata": {},
   "outputs": [
    {
     "data": {
      "text/plain": [
       "4×5 Array{Float64,2}:\n",
       " 509.302  588.372  546.512  558.14  604.651\n",
       " 509.302  588.372  546.512  558.14  604.651\n",
       " 509.302  588.372  546.512  558.14  604.651\n",
       " 509.302  588.372  546.512  558.14  604.651"
      ]
     },
     "execution_count": 8,
     "metadata": {},
     "output_type": "execute_result"
    }
   ],
   "source": [
    "Earnings = zeros(size(Dist))\n",
    "for num in I\n",
    "    Earnings[num,:] = wholesaleTonPrice\n",
    "end\n",
    "Earnings"
   ]
  },
  {
   "cell_type": "markdown",
   "metadata": {},
   "source": [
    "### Establishing an Optimization Function\n",
    "\n"
   ]
  },
  {
   "cell_type": "code",
   "execution_count": 9,
   "metadata": {},
   "outputs": [
    {
     "data": {
      "text/latex": [
       "$$ \\begin{alignat*}{1}\\text{feasibility}\\\\\n",
       "\\text{Subject to} \\quad\\end{alignat*}\n",
       " $$"
      ],
      "text/plain": [
       "A JuMP Model\n",
       "Feasibility problem with:\n",
       "Variables: 0\n",
       "Model mode: AUTOMATIC\n",
       "CachingOptimizer state: EMPTY_OPTIMIZER\n",
       "Solver name: Mosek"
      ]
     },
     "execution_count": 9,
     "metadata": {},
     "output_type": "execute_result"
    }
   ],
   "source": [
    "#initialize model\n",
    "basic_model = Model(with_optimizer(Mosek.Optimizer, QUIET=false, INTPNT_CO_TOL_DFEAS=1e-7))\n",
    "#basic_model = Model(with_optimizer(GLPK.Optimizer))"
   ]
  },
  {
   "cell_type": "markdown",
   "metadata": {},
   "source": [
    "With the model space now prepared, we can begin to construct an optimization function.  Since the number of trucks required to move the product from a given farm to a given market is logically constrained to $numTrucks \\in \\mathbb{Z}_{\\geq 0}$, the question will be a mixed-integer problem.  We begin by establishing the fixed values needed for our constraints.  Since $x_{i,j}$ will represent the tonnage of milk shipped from Farm $i$ to bottling facility $j$ and $m_j$ will represent the demand filled at a given bottling facility, $$m_j = \\sum_{i=1}^4 x_{i,j} \\text{ for } j = (1,2,3,4,5)\\\\ s.t. 10 \\leq \\sum_{i=1}^4 x_i \\leq 25$$"
   ]
  },
  {
   "cell_type": "code",
   "execution_count": 10,
   "metadata": {},
   "outputs": [
    {
     "data": {
      "text/plain": [
       "5-element Array{VariableRef,1}:\n",
       " m[1]\n",
       " m[2]\n",
       " m[3]\n",
       " m[4]\n",
       " m[5]"
      ]
     },
     "execution_count": 10,
     "metadata": {},
     "output_type": "execute_result"
    }
   ],
   "source": [
    "#establish port quantities and market demands\n",
    "Demand = [25, 25, 25, 25, 25]\n",
    "Floor = [10, 10, 10, 10, 10]\n",
    "\n",
    "#M will represent units demanded in each market\n",
    "@variable(basic_model, m[i=1:Markets], lower_bound = Floor[i], upper_bound = Demand[i])"
   ]
  },
  {
   "cell_type": "markdown",
   "metadata": {},
   "source": [
    "We next prepare the $p_i$ variables. The lower bound is logically 0, and the upper bound of a given $p_i$ is equal to the milk output of Farm $i$.\n",
    "$$\\text{Total Output} = \\sum_{i=1}^4 p_i\\\\ \\text{s.t. } p_i \\in \\mathbb{R}^{+}\\\\ p_i \\leq \\text{Milk produced at Farm }i$$"
   ]
  },
  {
   "cell_type": "code",
   "execution_count": 11,
   "metadata": {},
   "outputs": [
    {
     "data": {
      "text/plain": [
       "4-element Array{VariableRef,1}:\n",
       " p[1]\n",
       " p[2]\n",
       " p[3]\n",
       " p[4]"
      ]
     },
     "execution_count": 11,
     "metadata": {},
     "output_type": "execute_result"
    }
   ],
   "source": [
    "#P will represent units available in each port\n",
    "@variable(basic_model, p[i=1:Farms], lower_bound = 0, upper_bound = Output[i])"
   ]
  },
  {
   "cell_type": "markdown",
   "metadata": {},
   "source": [
    "As noted above, variable $x_{i,j}$ will represent the tons of milk shipped from Farm $i$ to bottling facility $j$.  This variable is bounded by $x_{i,j} \\in \\mathbb{R}^{+}$ and constrained by\n",
    "$$\\sum^5_{j=1} x_{i,j} = p_i$$ ."
   ]
  },
  {
   "cell_type": "code",
   "execution_count": 12,
   "metadata": {},
   "outputs": [],
   "source": [
    "#x[i,j] = units moved from Market[i] to Port[j] \n",
    "@variable(basic_model, x[1:Farms,1:Markets] >= 0)\n",
    "\n",
    "#supply constraints - row-wise sum of matrix x should equal supply for a given P\n",
    "for farm in I\n",
    "    @constraint(basic_model, sum(x[farm,:]) == p[farm]) \n",
    "end"
   ]
  },
  {
   "cell_type": "markdown",
   "metadata": {},
   "source": [
    "Given that the demand across the five bottling plants, $\\sum_{j=1}^5 m_j$, is greater than the maximum farm output, $\\sum_{i=1}^4 p_i$, we create a slack variable to balance the problem by capturing the excess demand.  We initialize the variable by establishing a lower bound $slack_m \\in \\mathbb{R}^{+}$, and then constrain the values for the slack demand by establishing that \n",
    "$$\\sum_{j=1}^5 m_j - \\sum_{j=1}^5 slack_j= \\sum_{i=1}^4 p_i$$"
   ]
  },
  {
   "cell_type": "code",
   "execution_count": 13,
   "metadata": {},
   "outputs": [],
   "source": [
    "#create slack variable array for excess demand\n",
    "@variable(basic_model, slackdemand[i=1:Markets], lower_bound = 0)\n",
    "\n",
    "#demand constraints - column-wise sum of matrix x should equal market demand for a given M\n",
    "for market in J\n",
    "    @constraint(basic_model, sum(x[:,market]) + slackdemand[market] == Demand[market])\n",
    "end"
   ]
  },
  {
   "cell_type": "markdown",
   "metadata": {},
   "source": [
    "Lastly, we create variable $numTrucks_{i,j}$ that will represent the number of trucks moving milk from Farm $i$ to bottling facility $j$.  Since the cost function for shipping is per-truck and not per-unit, we bound the number of trucks to integer values: \n",
    "$$numTrucks \\in \\mathbb{Z}_{\\geq 0}$$\n",
    "\n",
    "Additionally, since each truck can carry up to five tons of milk each, we constrain $numTrucks_{i,j}$ relative to the amount of milk moving from Farm $i$ to bottling facility $j$ thusly:\n",
    "\n",
    "$$numTrucks_{i,j} \\geq \\frac{1}{5} * x_{i,j}$$"
   ]
  },
  {
   "cell_type": "code",
   "execution_count": 14,
   "metadata": {},
   "outputs": [],
   "source": [
    "#variable space for number of trucks required, Int constraint\n",
    "@variable(basic_model,numTrucks[1:Farms,1:Markets], lower_bound = 0, Int)\n",
    "\n",
    "#number of trucks constraint\n",
    "for (index, value) in enumerate(Dist)\n",
    "    @constraint(basic_model, numTrucks[index] >= (1/5) * x[index])\n",
    "end"
   ]
  },
  {
   "cell_type": "markdown",
   "metadata": {},
   "source": [
    "With the variables established and fully bounded, we can now build the objective function.  \n",
    "\n",
    "$$ \\text{max} \\sum_{i=1}^4 p_i \\cdot \\text{production_cost} + \\sum_{i,j = 0}^{4,5} -1.09 \\cdot \\text{highRateMileage}_{i,j} \\cdot numTrucks_{i,j} +\\\\ \\sum_{i,j = 0}^{4,5} -0.95 \\cdot \\text{lowRateMileage}_{i,j} \\cdot numTrucks_{i,j} + \\sum_{i,j = 0}^{4,5} \\text{Earnings}_{i,j} \\cdot x_{i,j} $$ "
   ]
  },
  {
   "cell_type": "code",
   "execution_count": 15,
   "metadata": {},
   "outputs": [
    {
     "data": {
      "text/latex": [
       "$$ -43.8 p_{1} - 43.8 p_{2} - 43.8 p_{3} - 43.8 p_{4} - 136.25 numTrucks_{1,1} - 269.9 numTrucks_{2,1} - 319.29999999999995 numTrucks_{3,1} - 64.31 numTrucks_{4,1} - 114.45 numTrucks_{1,2} - 209.1 numTrucks_{2,2} - 210.05 numTrucks_{3,2} - 106.82000000000001 numTrucks_{4,2} - 259.45 numTrucks_{1,3} - 236.64999999999998 numTrucks_{2,3} - 113.36000000000001 numTrucks_{3,3} - 291.75 numTrucks_{4,3} - 249.95 numTrucks_{1,4} - 160.23000000000002 numTrucks_{2,4} - 178.7 numTrucks_{3,4} - 355.4 numTrucks_{4,4} - 364.9 numTrucks_{1,5} - 449.45 numTrucks_{2,5} - 391.5 numTrucks_{3,5} - 388.65 numTrucks_{4,5} + 509.3023255813954 x_{1,1} + 509.3023255813954 x_{2,1} + 509.3023255813954 x_{3,1} + 509.3023255813954 x_{4,1} + 588.3720930232558 x_{1,2} + 588.3720930232558 x_{2,2} + 588.3720930232558 x_{3,2} + 588.3720930232558 x_{4,2} + 546.5116279069769 x_{1,3} + 546.5116279069769 x_{2,3} + 546.5116279069769 x_{3,3} + 546.5116279069769 x_{4,3} + 558.1395348837209 x_{1,4} + 558.1395348837209 x_{2,4} + 558.1395348837209 x_{3,4} + 558.1395348837209 x_{4,4} + 604.6511627906978 x_{1,5} + 604.6511627906978 x_{2,5} + 604.6511627906978 x_{3,5} + 604.6511627906978 x_{4,5} $$"
      ],
      "text/plain": [
       "-43.8 p[1] - 43.8 p[2] - 43.8 p[3] - 43.8 p[4] - 136.25 numTrucks[1,1] - 269.9 numTrucks[2,1] - 319.29999999999995 numTrucks[3,1] - 64.31 numTrucks[4,1] - 114.45 numTrucks[1,2] - 209.1 numTrucks[2,2] - 210.05 numTrucks[3,2] - 106.82000000000001 numTrucks[4,2] - 259.45 numTrucks[1,3] - 236.64999999999998 numTrucks[2,3] - 113.36000000000001 numTrucks[3,3] - 291.75 numTrucks[4,3] - 249.95 numTrucks[1,4] - 160.23000000000002 numTrucks[2,4] - 178.7 numTrucks[3,4] - 355.4 numTrucks[4,4] - 364.9 numTrucks[1,5] - 449.45 numTrucks[2,5] - 391.5 numTrucks[3,5] - 388.65 numTrucks[4,5] + 509.3023255813954 x[1,1] + 509.3023255813954 x[2,1] + 509.3023255813954 x[3,1] + 509.3023255813954 x[4,1] + 588.3720930232558 x[1,2] + 588.3720930232558 x[2,2] + 588.3720930232558 x[3,2] + 588.3720930232558 x[4,2] + 546.5116279069769 x[1,3] + 546.5116279069769 x[2,3] + 546.5116279069769 x[3,3] + 546.5116279069769 x[4,3] + 558.1395348837209 x[1,4] + 558.1395348837209 x[2,4] + 558.1395348837209 x[3,4] + 558.1395348837209 x[4,4] + 604.6511627906978 x[1,5] + 604.6511627906978 x[2,5] + 604.6511627906978 x[3,5] + 604.6511627906978 x[4,5]"
      ]
     },
     "execution_count": 15,
     "metadata": {},
     "output_type": "execute_result"
    }
   ],
   "source": [
    "#compose the objective function\n",
    "@objective(basic_model, Max, sum(production_costs .* p) + sum(highRateMileage.*mileCostHigh.*numTrucks) \n",
    "    + sum(lowRateMileage.*mileCostLow.*numTrucks) + sum(Earnings .* x))"
   ]
  },
  {
   "cell_type": "code",
   "execution_count": 16,
   "metadata": {},
   "outputs": [
    {
     "name": "stdout",
     "output_type": "stream",
     "text": [
      "Problem\n",
      "  Name                   :                 \n",
      "  Objective sense        : max             \n",
      "  Type                   : LO (linear optimization problem)\n",
      "  Constraints            : 29              \n",
      "  Cones                  : 0               \n",
      "  Scalar variables       : 54              \n",
      "  Matrix variables       : 0               \n",
      "  Integer variables      : 20              \n",
      "\n",
      "Optimizer started.\n",
      "Mixed integer optimizer started.\n",
      "Threads used: 4\n",
      "Presolve started.\n",
      "Presolve terminated. Time = 0.00\n",
      "Presolved problem: 40 variables, 29 constraints, 80 non-zeros\n",
      "Presolved problem: 20 general integer, 0 binary, 20 continuous\n",
      "Clique table size: 0\n",
      "BRANCHES RELAXS   ACT_NDS  DEPTH    BEST_INT_OBJ         BEST_RELAX_OBJ       REL_GAP(%)  TIME  \n",
      "0        1        0        0        NA                   5.3616992827e+04     NA          0.1   \n",
      "0        1        0        0        5.2948291549e+04     5.3616992827e+04     1.26        0.1   \n",
      "0        1        0        0        5.3300486223e+04     5.3616992827e+04     0.59        0.1   \n",
      "Cut generation started.\n",
      "0        2        0        0        5.3300486223e+04     5.3616992827e+04     0.59        0.1   \n",
      "0        3        0        0        5.3300486223e+04     5.3533415392e+04     0.44        0.1   \n",
      "0        4        0        0        5.3300486223e+04     5.3442318265e+04     0.27        0.1   \n",
      "Cut generation terminated. Time = 0.00\n",
      "7        12       8        2        5.3300486223e+04     5.3382226219e+04     0.15        0.1   \n",
      "10       15       8        2        5.3302387130e+04     5.3382226219e+04     0.15        0.1   \n",
      "12       17       8        2        5.3303397363e+04     5.3382226219e+04     0.15        0.1   \n",
      "16       21       8        2        5.3333767130e+04     5.3382226219e+04     0.09        0.1   \n",
      "34       35       6        4        5.3333767130e+04     5.3371260279e+04     0.07        0.1   \n",
      "46       47       6        5        5.3333767130e+04     5.3337412463e+04     6.83e-03    0.1   \n",
      "An optimal solution satisfying the relative gap tolerance of 1.00e-02(%) has been located.\n",
      "The relative gap is 6.83e-03(%).\n",
      "\n",
      "Objective of best integer solution : 5.333376713023e+04      \n",
      "Best objective bound               : 5.333741246279e+04      \n",
      "Construct solution objective       : Not employed\n",
      "Construct solution # roundings     : 0\n",
      "User objective cut value           : 0\n",
      "Number of cuts generated           : 23\n",
      "  Number of Gomory cuts            : 12\n",
      "  Number of CMIR cuts              : 11\n",
      "Number of branches                 : 46\n",
      "Number of relaxations solved       : 47\n",
      "Number of interior point iterations: 8\n",
      "Number of simplex iterations       : 88\n",
      "Time spend presolving the root     : 0.00\n",
      "Time spend in the heuristic        : 0.00\n",
      "Time spend in the sub optimizers   : 0.00\n",
      "  Time spend optimizing the root   : 0.00\n",
      "Mixed integer optimizer terminated. Time: 0.14\n",
      "\n",
      "Optimizer terminated. Time: 0.14    \n",
      "\n",
      " 13.620936 seconds (21.68 M allocations: 1.072 GiB, 7.34% gc time)\n"
     ]
    }
   ],
   "source": [
    "@time begin\n",
    "    status = optimize!(basic_model)\n",
    "end"
   ]
  },
  {
   "cell_type": "code",
   "execution_count": 17,
   "metadata": {},
   "outputs": [
    {
     "name": "stdout",
     "output_type": "stream",
     "text": [
      "Earnings: $53333.76713023257\n"
     ]
    }
   ],
   "source": [
    "#print objective value\n",
    "println(\"Earnings: \\$\", JuMP.objective_value(basic_model))"
   ]
  },
  {
   "cell_type": "code",
   "execution_count": 18,
   "metadata": {},
   "outputs": [
    {
     "data": {
      "text/plain": [
       "\"Tons moved:\""
      ]
     },
     "metadata": {},
     "output_type": "display_data"
    },
    {
     "data": {
      "text/plain": [
       "4×5 Array{Float64,2}:\n",
       "  0.0     0.0   0.0           7.95         20.0        \n",
       "  0.0     0.0   6.66134e-15  16.985         1.03989e-14\n",
       "  0.0     0.0  23.005        -3.55271e-15   0.0        \n",
       " 12.011  25.0   0.0           0.0           5.0        "
      ]
     },
     "metadata": {},
     "output_type": "display_data"
    },
    {
     "data": {
      "text/plain": [
       "\"Trucks required:\""
      ]
     },
     "metadata": {},
     "output_type": "display_data"
    },
    {
     "data": {
      "text/plain": [
       "4×5 Array{Float64,2}:\n",
       " 0.0  0.0  0.0   2.0          4.0\n",
       " 0.0  0.0  0.0   4.0          0.0\n",
       " 0.0  0.0  5.0  -7.10543e-16  0.0\n",
       " 3.0  5.0  0.0   0.0          1.0"
      ]
     },
     "metadata": {},
     "output_type": "display_data"
    }
   ],
   "source": [
    "#print tons moved and trucks used\n",
    "display(\"Tons moved:\")\n",
    "display(JuMP.value.(x))\n",
    "display(\"Trucks required:\")\n",
    "display(JuMP.value.(numTrucks))"
   ]
  },
  {
   "cell_type": "code",
   "execution_count": 19,
   "metadata": {},
   "outputs": [
    {
     "name": "stdout",
     "output_type": "stream",
     "text": [
      "m[1]:10.0\n",
      "m[2]:10.0\n",
      "m[3]:10.0\n",
      "m[4]:10.0\n",
      "m[5]:10.0\n",
      "p[1]:27.949999999999996\n",
      "p[2]:16.985\n",
      "p[3]:23.005\n",
      "p[4]:42.011\n",
      "x[1,1]:0.0\n",
      "x[1,2]:0.0\n",
      "x[1,3]:0.0\n",
      "x[1,4]:7.950000000000036\n",
      "x[1,5]:19.99999999999996\n",
      "x[2,1]:0.0\n",
      "x[2,2]:0.0\n",
      "x[2,3]:6.661338147750935e-15\n",
      "x[2,4]:16.98499999999998\n",
      "x[2,5]:1.0398904880734458e-14\n",
      "x[3,1]:0.0\n",
      "x[3,2]:0.0\n",
      "x[3,3]:23.005000000000003\n",
      "x[3,4]:-3.552713678800501e-15\n",
      "x[3,5]:0.0\n",
      "x[4,1]:12.010999999999974\n",
      "x[4,2]:25.0\n",
      "x[4,3]:0.0\n",
      "x[4,4]:0.0\n",
      "x[4,5]:5.000000000000027\n",
      "slackdemand[1]:12.989000000000026\n",
      "slackdemand[2]:0.0\n",
      "slackdemand[3]:1.9949999999999903\n",
      "slackdemand[4]:0.06499999999998707\n",
      "slackdemand[5]:0.0\n",
      "numTrucks[1,1]:0.0\n",
      "numTrucks[1,2]:0.0\n",
      "numTrucks[1,3]:0.0\n",
      "numTrucks[1,4]:2.0\n",
      "numTrucks[1,5]:3.9999999999999925\n",
      "numTrucks[2,1]:0.0\n",
      "numTrucks[2,2]:0.0\n",
      "numTrucks[2,3]:0.0\n",
      "numTrucks[2,4]:3.9999999999999907\n",
      "numTrucks[2,5]:0.0\n",
      "numTrucks[3,1]:0.0\n",
      "numTrucks[3,2]:0.0\n",
      "numTrucks[3,3]:5.0\n",
      "numTrucks[3,4]:-7.105427357601002e-16\n",
      "numTrucks[3,5]:0.0\n",
      "numTrucks[4,1]:3.0\n",
      "numTrucks[4,2]:5.0\n",
      "numTrucks[4,3]:0.0\n",
      "numTrucks[4,4]:0.0\n",
      "numTrucks[4,5]:1.0\n"
     ]
    }
   ],
   "source": [
    "#dump all vars to console\n",
    "list = JuMP.all_variables(basic_model)\n",
    "\n",
    "#now iterate over list and print values\n",
    "for name in list\n",
    "    println(name,\":\", JuMP.value(name))\n",
    "end"
   ]
  },
  {
   "cell_type": "code",
   "execution_count": 20,
   "metadata": {},
   "outputs": [],
   "source": [
    "#use two variable sets for shipping distances travelled\n",
    "#@variable(basic_model,truckDistHigh[1:Farms,1:Markets], lower_bound = 0, upper_bound = 150)\n",
    "#@variable(basic_model,truckDistLow[1:Farms,1:Markets], lower_bound = 0)\n",
    "\n",
    "#shipping cost constraints\n",
    "#low cost is value - 150, noting that dist is constrainted to be >= 0 in declaration\n",
    "#for (index, value) in enumerate(Dist)\n",
    "#    @constraint(basic_model, truckDistLow[index] >= value - 150)\n",
    "#end\n",
    "\n",
    "#high shipping costs contraints\n",
    "#for (index, value) in enumerate(Dist)\n",
    "#    @constraint(basic_model, truckDistHigh[index] == value - truckDistLow[index])\n",
    "#end"
   ]
  },
  {
   "cell_type": "markdown",
   "metadata": {},
   "source": [
    "### Question 2b\n",
    "\n",
    "The owners of the farm collective are curious if they can make more money under current market conditions by reallocating their milk cows to different farms so as to reduce overall shipping costs.  The current cattle distribution is as follows:\n",
    "\n",
    "1. 142 head\n",
    "2. 87 head\n",
    "3. 118 head\n",
    "4. 215 head\n",
    "\n",
    "Each farm needs to have at least 75 head of cattle, and no farm can hold more than 250 head. Each cow produces on average 45.5gal milk per week.\n",
    "\n",
    "We start by reestablishing the previous model deployed:"
   ]
  },
  {
   "cell_type": "code",
   "execution_count": 21,
   "metadata": {},
   "outputs": [
    {
     "data": {
      "text/latex": [
       "$$ \\begin{alignat*}{1}\\text{feasibility}\\\\\n",
       "\\text{Subject to} \\quad\\end{alignat*}\n",
       " $$"
      ],
      "text/plain": [
       "A JuMP Model\n",
       "Feasibility problem with:\n",
       "Variables: 0\n",
       "Model mode: AUTOMATIC\n",
       "CachingOptimizer state: EMPTY_OPTIMIZER\n",
       "Solver name: Mosek"
      ]
     },
     "execution_count": 21,
     "metadata": {},
     "output_type": "execute_result"
    }
   ],
   "source": [
    "basic_model = Model(with_optimizer(Mosek.Optimizer, QUIET=false, INTPNT_CO_TOL_DFEAS=1e-7))"
   ]
  },
  {
   "cell_type": "markdown",
   "metadata": {},
   "source": [
    "We add in a new variable, $numCows \\in \\mathbb{Z}_{\\geq 0}$, such that $75 \\leq numCows_i \\leq 250 \\text{ for } i = (1,2,3,4)$ and that\n",
    "$$\\sum^4_{i=1} numCows_i \\leq 562$$"
   ]
  },
  {
   "cell_type": "code",
   "execution_count": 22,
   "metadata": {},
   "outputs": [
    {
     "data": {
      "text/latex": [
       "$ numCows_{1} + numCows_{2} + numCows_{3} + numCows_{4} \\leq 562.0 $"
      ],
      "text/plain": [
       "numCows[1] + numCows[2] + numCows[3] + numCows[4] <= 562.0"
      ]
     },
     "execution_count": 22,
     "metadata": {},
     "output_type": "execute_result"
    }
   ],
   "source": [
    "@variable(basic_model, numCows[i=1:Farms], lower_bound = 75, upper_bound = 250, Int)\n",
    "@constraint(basic_model, sum(numCows) <= 562)"
   ]
  },
  {
   "cell_type": "markdown",
   "metadata": {},
   "source": [
    "We then modify the previous output variable, $p$, to derive the tons of milk produced by $numCows_i$ at Farm $i$:\n",
    "\n",
    "$$p_i = 45.5 * numCows_i * \\frac{8.6lb/gal}{2000lb}$$"
   ]
  },
  {
   "cell_type": "code",
   "execution_count": 23,
   "metadata": {},
   "outputs": [],
   "source": [
    "@variable(basic_model, p[i=1:Farms], lower_bound = 0)\n",
    "for farm in I\n",
    "    @constraint(basic_model, p[farm] == (numCows[farm] * 45.5) * (8.6/2000)) \n",
    "end"
   ]
  },
  {
   "cell_type": "markdown",
   "metadata": {},
   "source": [
    "The optimization question is otherwise as before:"
   ]
  },
  {
   "cell_type": "code",
   "execution_count": 24,
   "metadata": {},
   "outputs": [],
   "source": [
    "@variable(basic_model, m[i=1:Markets], lower_bound = Floor[i], upper_bound = Demand[i])\n",
    "@variable(basic_model, x[1:Farms,1:Markets] >= 0)\n",
    "\n",
    "for farm in I\n",
    "    @constraint(basic_model, sum(x[farm,:]) == p[farm]) \n",
    "end\n",
    "\n",
    "@variable(basic_model, slackdemand[i=1:Markets], lower_bound = 0)\n",
    "\n",
    "for market in J\n",
    "    @constraint(basic_model, sum(x[:,market]) + slackdemand[market] == Demand[market])\n",
    "end\n",
    "\n",
    "@variable(basic_model,numTrucks[1:Farms,1:Markets], lower_bound = 0, Int)\n",
    "\n",
    "for (index, value) in enumerate(Dist)\n",
    "    @constraint(basic_model, numTrucks[index] >= (1/5) * x[index])\n",
    "end"
   ]
  },
  {
   "cell_type": "code",
   "execution_count": 25,
   "metadata": {},
   "outputs": [
    {
     "data": {
      "text/latex": [
       "$$ -43.8 p_{1} - 43.8 p_{2} - 43.8 p_{3} - 43.8 p_{4} - 136.25 numTrucks_{1,1} - 269.9 numTrucks_{2,1} - 319.29999999999995 numTrucks_{3,1} - 64.31 numTrucks_{4,1} - 114.45 numTrucks_{1,2} - 209.1 numTrucks_{2,2} - 210.05 numTrucks_{3,2} - 106.82000000000001 numTrucks_{4,2} - 259.45 numTrucks_{1,3} - 236.64999999999998 numTrucks_{2,3} - 113.36000000000001 numTrucks_{3,3} - 291.75 numTrucks_{4,3} - 249.95 numTrucks_{1,4} - 160.23000000000002 numTrucks_{2,4} - 178.7 numTrucks_{3,4} - 355.4 numTrucks_{4,4} - 364.9 numTrucks_{1,5} - 449.45 numTrucks_{2,5} - 391.5 numTrucks_{3,5} - 388.65 numTrucks_{4,5} + 509.3023255813954 x_{1,1} + 509.3023255813954 x_{2,1} + 509.3023255813954 x_{3,1} + 509.3023255813954 x_{4,1} + 588.3720930232558 x_{1,2} + 588.3720930232558 x_{2,2} + 588.3720930232558 x_{3,2} + 588.3720930232558 x_{4,2} + 546.5116279069769 x_{1,3} + 546.5116279069769 x_{2,3} + 546.5116279069769 x_{3,3} + 546.5116279069769 x_{4,3} + 558.1395348837209 x_{1,4} + 558.1395348837209 x_{2,4} + 558.1395348837209 x_{3,4} + 558.1395348837209 x_{4,4} + 604.6511627906978 x_{1,5} + 604.6511627906978 x_{2,5} + 604.6511627906978 x_{3,5} + 604.6511627906978 x_{4,5} $$"
      ],
      "text/plain": [
       "-43.8 p[1] - 43.8 p[2] - 43.8 p[3] - 43.8 p[4] - 136.25 numTrucks[1,1] - 269.9 numTrucks[2,1] - 319.29999999999995 numTrucks[3,1] - 64.31 numTrucks[4,1] - 114.45 numTrucks[1,2] - 209.1 numTrucks[2,2] - 210.05 numTrucks[3,2] - 106.82000000000001 numTrucks[4,2] - 259.45 numTrucks[1,3] - 236.64999999999998 numTrucks[2,3] - 113.36000000000001 numTrucks[3,3] - 291.75 numTrucks[4,3] - 249.95 numTrucks[1,4] - 160.23000000000002 numTrucks[2,4] - 178.7 numTrucks[3,4] - 355.4 numTrucks[4,4] - 364.9 numTrucks[1,5] - 449.45 numTrucks[2,5] - 391.5 numTrucks[3,5] - 388.65 numTrucks[4,5] + 509.3023255813954 x[1,1] + 509.3023255813954 x[2,1] + 509.3023255813954 x[3,1] + 509.3023255813954 x[4,1] + 588.3720930232558 x[1,2] + 588.3720930232558 x[2,2] + 588.3720930232558 x[3,2] + 588.3720930232558 x[4,2] + 546.5116279069769 x[1,3] + 546.5116279069769 x[2,3] + 546.5116279069769 x[3,3] + 546.5116279069769 x[4,3] + 558.1395348837209 x[1,4] + 558.1395348837209 x[2,4] + 558.1395348837209 x[3,4] + 558.1395348837209 x[4,4] + 604.6511627906978 x[1,5] + 604.6511627906978 x[2,5] + 604.6511627906978 x[3,5] + 604.6511627906978 x[4,5]"
      ]
     },
     "execution_count": 25,
     "metadata": {},
     "output_type": "execute_result"
    }
   ],
   "source": [
    "@objective(basic_model, Max, sum(production_costs .* p) + sum(highRateMileage.*mileCostHigh.*numTrucks) \n",
    "    + sum(lowRateMileage.*mileCostLow.*numTrucks) + sum(Earnings .* x))"
   ]
  },
  {
   "cell_type": "code",
   "execution_count": 26,
   "metadata": {},
   "outputs": [
    {
     "name": "stdout",
     "output_type": "stream",
     "text": [
      "Problem\n",
      "  Name                   :                 \n",
      "  Objective sense        : max             \n",
      "  Type                   : LO (linear optimization problem)\n",
      "  Constraints            : 34              \n",
      "  Cones                  : 0               \n",
      "  Scalar variables       : 58              \n",
      "  Matrix variables       : 0               \n",
      "  Integer variables      : 24              \n",
      "\n",
      "Optimizer started.\n",
      "Mixed integer optimizer started.\n",
      "Threads used: 4\n",
      "Presolve started.\n",
      "Presolve terminated. Time = 0.00\n",
      "Presolved problem: 44 variables, 30 constraints, 88 non-zeros\n",
      "Presolved problem: 24 general integer, 0 binary, 20 continuous\n",
      "Clique table size: 0\n",
      "BRANCHES RELAXS   ACT_NDS  DEPTH    BEST_INT_OBJ         BEST_RELAX_OBJ       REL_GAP(%)  TIME  \n",
      "0        1        0        0        NA                   5.3841480698e+04     NA          0.0   \n",
      "0        1        0        0        5.3285505767e+04     5.3841480698e+04     1.04        0.0   \n",
      "0        1        0        0        5.3425573209e+04     5.3841480698e+04     0.78        0.0   \n",
      "Cut generation started.\n",
      "0        2        0        0        5.3425573209e+04     5.3841480698e+04     0.78        0.0   \n",
      "Cut generation terminated. Time = 0.00\n",
      "0        3        0        0        5.3509386916e+04     5.3840144847e+04     0.62        0.0   \n",
      "0        3        0        0        5.3540025456e+04     5.3840144847e+04     0.56        0.0   \n",
      "14       17       8        2        5.3540025456e+04     5.3839977485e+04     0.56        0.0   \n",
      "38       41       8        2        5.3540025456e+04     5.3839977485e+04     0.56        0.0   \n",
      "66       69       8        2        5.3627227976e+04     5.3839977485e+04     0.40        0.0   \n",
      "90       93       32       5        5.3627227976e+04     5.3839631693e+04     0.40        0.0   \n",
      "122      125      52       11       5.3627227976e+04     5.3839631693e+04     0.40        0.1   \n",
      "174      175      74       5        5.3627227976e+04     5.3837543614e+04     0.39        0.1   \n",
      "246      245      104      8        5.3639102511e+04     5.3836697961e+04     0.37        0.1   \n",
      "350      348      150      8        5.3639102511e+04     5.3829510998e+04     0.35        0.1   \n",
      "498      492      220      10       5.3639102511e+04     5.3819118450e+04     0.34        0.1   \n",
      "680      668      278      15       5.3639390534e+04     5.3811340771e+04     0.32        0.1   \n",
      "865      847      377      11       5.3639390534e+04     5.3788839959e+04     0.28        0.1   \n",
      "1056     1027     432      42       5.3748942046e+04     5.3786898402e+04     0.07        0.1   \n",
      "1253     1206     419      16       5.3748942046e+04     5.3771827567e+04     0.04        0.1   \n",
      "1516     1360     276      13       5.3748942046e+04     5.3766332154e+04     0.03        0.1   \n",
      "1789     1495     93       12       5.3750664953e+04     5.3750664953e+04     0.00e+00    0.1   \n",
      "An optimal solution satisfying the relative gap tolerance of 1.00e-02(%) has been located.\n",
      "The relative gap is 0.00e+00(%).\n",
      "An optimal solution satisfying the absolute gap tolerance of 0.00e+00 has been located.\n",
      "The absolute gap is 0.00e+00.\n",
      "\n",
      "Objective of best integer solution : 5.375066495302e+04      \n",
      "Best objective bound               : 5.375066495302e+04      \n",
      "Construct solution objective       : Not employed\n",
      "Construct solution # roundings     : 0\n",
      "User objective cut value           : 0\n",
      "Number of cuts generated           : 8\n",
      "  Number of Gomory cuts            : 5\n",
      "  Number of CMIR cuts              : 3\n",
      "Number of branches                 : 1789\n",
      "Number of relaxations solved       : 1495\n",
      "Number of interior point iterations: 8\n",
      "Number of simplex iterations       : 2636\n",
      "Time spend presolving the root     : 0.00\n",
      "Time spend in the heuristic        : 0.00\n",
      "Time spend in the sub optimizers   : 0.00\n",
      "  Time spend optimizing the root   : 0.00\n",
      "Mixed integer optimizer terminated. Time: 0.14\n",
      "\n",
      "Optimizer terminated. Time: 0.14    \n",
      "\n",
      "  0.978403 seconds (1.41 M allocations: 70.950 MiB, 4.54% gc time)\n"
     ]
    }
   ],
   "source": [
    "@time begin\n",
    "    status = optimize!(basic_model)\n",
    "end"
   ]
  },
  {
   "cell_type": "code",
   "execution_count": 27,
   "metadata": {},
   "outputs": [
    {
     "name": "stdout",
     "output_type": "stream",
     "text": [
      "Earnings: $53750.66495302327\n"
     ]
    }
   ],
   "source": [
    "#print objective value\n",
    "println(\"Earnings: \\$\", JuMP.objective_value(basic_model))"
   ]
  },
  {
   "cell_type": "code",
   "execution_count": 28,
   "metadata": {},
   "outputs": [
    {
     "data": {
      "text/plain": [
       "\"Tons moved:\""
      ]
     },
     "metadata": {},
     "output_type": "display_data"
    },
    {
     "data": {
      "text/plain": [
       "4×5 Array{Float64,2}:\n",
       "  0.0      4.93445   0.0      0.0     25.0\n",
       "  0.0      0.0       0.0     24.8475   0.0\n",
       "  0.0      0.0      24.8476   0.0      0.0\n",
       " 10.3257  20.0       0.0      0.0      0.0"
      ]
     },
     "metadata": {},
     "output_type": "display_data"
    },
    {
     "data": {
      "text/plain": [
       "\"Trucks required:\""
      ]
     },
     "metadata": {},
     "output_type": "display_data"
    },
    {
     "data": {
      "text/plain": [
       "4×5 Array{Float64,2}:\n",
       " 0.0  1.0  0.0  0.0  5.0\n",
       " 0.0  0.0  0.0  5.0  0.0\n",
       " 0.0  0.0  5.0  0.0  0.0\n",
       " 3.0  4.0  0.0  0.0  0.0"
      ]
     },
     "metadata": {},
     "output_type": "display_data"
    }
   ],
   "source": [
    "#print tons moved and trucks used\n",
    "display(\"Tons moooooved:\")\n",
    "display(JuMP.value.(x))\n",
    "display(\"Trucks required:\")\n",
    "display(JuMP.value.(numTrucks))"
   ]
  },
  {
   "cell_type": "code",
   "execution_count": 29,
   "metadata": {},
   "outputs": [
    {
     "name": "stdout",
     "output_type": "stream",
     "text": [
      "numCows[1]:153.0\n",
      "numCows[2]:127.0\n",
      "numCows[3]:127.00000000000001\n",
      "numCows[4]:155.0\n",
      "p[1]:29.93445\n",
      "p[2]:24.84755\n",
      "p[3]:24.847550000000002\n",
      "p[4]:30.32575\n",
      "m[1]:10.0\n",
      "m[2]:10.0\n",
      "m[3]:10.0\n",
      "m[4]:10.0\n",
      "m[5]:10.0\n",
      "x[1,1]:0.0\n",
      "x[1,2]:4.934449999999998\n",
      "x[1,3]:0.0\n",
      "x[1,4]:0.0\n",
      "x[1,5]:25.0\n",
      "x[2,1]:0.0\n",
      "x[2,2]:0.0\n",
      "x[2,3]:0.0\n",
      "x[2,4]:24.84755\n",
      "x[2,5]:0.0\n",
      "x[3,1]:0.0\n",
      "x[3,2]:0.0\n",
      "x[3,3]:24.847550000000002\n",
      "x[3,4]:0.0\n",
      "x[3,5]:0.0\n",
      "x[4,1]:10.32575\n",
      "x[4,2]:20.0\n",
      "x[4,3]:0.0\n",
      "x[4,4]:0.0\n",
      "x[4,5]:0.0\n",
      "slackdemand[1]:14.67425\n",
      "slackdemand[2]:0.06555000000000177\n",
      "slackdemand[3]:0.1524499999999982\n",
      "slackdemand[4]:0.15245000000000175\n",
      "slackdemand[5]:0.0\n",
      "numTrucks[1,1]:0.0\n",
      "numTrucks[1,2]:1.0\n",
      "numTrucks[1,3]:0.0\n",
      "numTrucks[1,4]:0.0\n",
      "numTrucks[1,5]:5.0\n",
      "numTrucks[2,1]:0.0\n",
      "numTrucks[2,2]:0.0\n",
      "numTrucks[2,3]:0.0\n",
      "numTrucks[2,4]:5.0\n",
      "numTrucks[2,5]:0.0\n",
      "numTrucks[3,1]:0.0\n",
      "numTrucks[3,2]:0.0\n",
      "numTrucks[3,3]:5.0\n",
      "numTrucks[3,4]:0.0\n",
      "numTrucks[3,5]:0.0\n",
      "numTrucks[4,1]:3.0\n",
      "numTrucks[4,2]:4.0\n",
      "numTrucks[4,3]:0.0\n",
      "numTrucks[4,4]:0.0\n",
      "numTrucks[4,5]:0.0\n"
     ]
    }
   ],
   "source": [
    "#dump all vars to console\n",
    "list = JuMP.all_variables(basic_model)\n",
    "\n",
    "#now iterate over list and print values\n",
    "for name in list\n",
    "    println(name,\":\", JuMP.value(name))\n",
    "end"
   ]
  }
 ],
 "metadata": {
  "kernelspec": {
   "display_name": "Julia 1.1.1",
   "language": "julia",
   "name": "julia-1.1"
  },
  "language_info": {
   "file_extension": ".jl",
   "mimetype": "application/julia",
   "name": "julia",
   "version": "1.1.1"
  }
 },
 "nbformat": 4,
 "nbformat_minor": 2
}
